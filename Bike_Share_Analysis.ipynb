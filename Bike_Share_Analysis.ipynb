{
 "cells": [
  {
   "cell_type": "markdown",
   "metadata": {},
   "source": [
    "# 2016 US Bike Share Activity Snapshot\n",
    "\n",
    "## Table of Contents\n",
    "- [Introduction](#intro)\n",
    "- [Posing Questions](#pose_questions)\n",
    "- [Data Collection and Wrangling](#wrangling)\n",
    "  - [Condensing the Trip Data](#condensing)\n",
    "- [Exploratory Data Analysis](#eda)\n",
    "  - [Statistics](#statistics)\n",
    "  - [Visualizations](#visualizations)\n",
    "- [Performing Your Own Analysis](#eda_continued)\n",
    "- [Conclusions](#conclusions)\n",
    "\n",
    "<a id='intro'></a>\n",
    "## Introduction\n",
    "\n",
    "\n",
    "\n",
    "Over the past decade, bicycle-sharing systems have been growing in number and popularity in cities across the world. Bicycle-sharing systems allow users to rent bicycles for short trips, typically 30 minutes or less. Thanks to the rise in information technologies, it is easy for a user of the system to access a dock within the system to unlock or return bicycles. These technologies also provide a wealth of data that can be used to explore how these bike-sharing systems are used.\n",
    "\n",
    "In this project, we will perform an exploratory analysis on data provided by [Motivate](https://www.motivateco.com/), a bike-share system provider for many major cities in the United States. You will compare the system usage between three large cities: New York City, Chicago, and Washington, DC. You will also see if there are any differences within each system for those users that are registered, regular users and those users that are short-term, casual users."
   ]
  },
  {
   "cell_type": "markdown",
   "metadata": {},
   "source": [
    "<a id='pose_questions'></a>\n",
    "## Posing Questions\n",
    "\n",
    "\n",
    "\n",
    "**Question 1**: Write at least two questions related to bike sharing that you think could be answered by data.\n",
    "\n",
    "**Answer**: How many users are registered users or casual users? In which city is the service most popular? What is the average time for which users rent bicycle for?\n"
   ]
  },
  {
   "cell_type": "markdown",
   "metadata": {},
   "source": [
    "<a id='wrangling'></a>\n",
    "## Data Collection and Wrangling\n",
    "\n",
    "Now it's time to collect and explore our data. In this project, we will focus on the record of individual trips taken in 2016 from our selected cities: New York City, Chicago, and Washington, DC. Each of these cities has a page where we can freely download the trip data.:\n",
    "\n",
    "- New York City (Citi Bike): [Link](https://www.citibikenyc.com/system-data)\n",
    "- Chicago (Divvy): [Link](https://www.divvybikes.com/system-data)\n",
    "- Washington, DC (Capital Bikeshare): [Link](https://www.capitalbikeshare.com/system-data)\n",
    "\n",
    " \n",
    "\n",
    "**Question 2**: However, there is still a lot of data for us to investigate, so it's a good idea to start off by looking at one entry from each of the cities we're going to analyze. Run the first code cell below to load some packages and functions that you'll be using in your analysis. Then, complete the second code cell to print out the first trip recorded from each of the cities (the second line of each data file).\n",
    "\n"
   ]
  },
  {
   "cell_type": "code",
   "execution_count": 59,
   "metadata": {
    "collapsed": true
   },
   "outputs": [],
   "source": [
    "## import all necessary packages and functions.\n",
    "import csv # read and write csv files\n",
    "from datetime import datetime # operations to parse dates\n",
    "from pprint import pprint # use to print data structures like dictionaries in\n",
    "import matplotlib.pyplot as plt\n",
    "import numpy as np\n",
    "from ggplot import *   \n",
    "import pandas as pd"
   ]
  },
  {
   "cell_type": "code",
   "execution_count": 62,
   "metadata": {},
   "outputs": [
    {
     "name": "stdout",
     "output_type": "stream",
     "text": [
      "\n",
      "City: NYC\n",
      "{'bikeid': '17109',\n",
      " 'birth year': '',\n",
      " 'end station id': '401',\n",
      " 'end station latitude': '40.72019576',\n",
      " 'end station longitude': '-73.98997825',\n",
      " 'end station name': 'Allen St & Rivington St',\n",
      " 'gender': '0',\n",
      " 'start station id': '532',\n",
      " 'start station latitude': '40.710451',\n",
      " 'start station longitude': '-73.960876',\n",
      " 'start station name': 'S 5 Pl & S 4 St',\n",
      " 'starttime': '1/1/2016 00:09:55',\n",
      " 'stoptime': '1/1/2016 00:23:54',\n",
      " 'tripduration': '839',\n",
      " 'usertype': 'Customer'}\n",
      "\n",
      "City: Chicago\n",
      "{'bikeid': '2295',\n",
      " 'birthyear': '1990',\n",
      " 'from_station_id': '156',\n",
      " 'from_station_name': 'Clark St & Wellington Ave',\n",
      " 'gender': 'Male',\n",
      " 'starttime': '3/31/2016 23:30',\n",
      " 'stoptime': '3/31/2016 23:46',\n",
      " 'to_station_id': '166',\n",
      " 'to_station_name': 'Ashland Ave & Wrightwood Ave',\n",
      " 'trip_id': '9080545',\n",
      " 'tripduration': '926',\n",
      " 'usertype': 'Subscriber'}\n",
      "\n",
      "City: Washington\n",
      "{'Bike number': 'W20842',\n",
      " 'Duration (ms)': '427387',\n",
      " 'End date': '3/31/2016 23:04',\n",
      " 'End station': 'Georgia Ave and Fairmont St NW',\n",
      " 'End station number': '31207',\n",
      " 'Member Type': 'Registered',\n",
      " 'Start date': '3/31/2016 22:57',\n",
      " 'Start station': 'Park Rd & Holmead Pl NW',\n",
      " 'Start station number': '31602'}\n"
     ]
    }
   ],
   "source": [
    "def print_first_point(filename):\n",
    "    \"\"\"\n",
    "    This function prints and returns the first data point (second row) from\n",
    "    a csv file that includes a header row.\n",
    "    \"\"\"\n",
    "    \n",
    "    city = filename.split('-')[0].split('/')[-1]\n",
    "    print('\\nCity: {}'.format(city))\n",
    "    \n",
    "    with open(filename, 'r') as f_in:\n",
    "        \n",
    "            trip_reader = csv.DictReader(f_in)\n",
    "            \n",
    "            first_trip = next(trip_reader)\n",
    "      \n",
    "            pprint(first_trip)\n",
    "\n",
    "        \n",
    "    \n",
    "    return (city, first_trip)\n",
    "\n",
    "# list of files for each city\n",
    "data_files = ['./data/NYC-CitiBike-2016.csv',\n",
    "              './data/Chicago-Divvy-2016.csv',\n",
    "              './data/Washington-CapitalBikeshare-2016.csv',]\n",
    "\n",
    "# print the first trip from each file, store in dictionary\n",
    "example_trips = {}\n",
    "for data_file in data_files:\n",
    "    city, first_trip = print_first_point(data_file)\n",
    "    example_trips[city] = first_trip"
   ]
  },
  {
   "cell_type": "markdown",
   "metadata": {},
   "source": [
    "\n",
    "\n",
    "<a id='condensing'></a>\n",
    "### Condensing the Trip Data\n",
    "\n",
    "It should also be observable from the above printout that each city provides different information. Even where the information is the same, the column names and formats are sometimes different. To make things as simple as possible when we get to the actual exploration, we should trim and clean the data. Cleaning the data makes sure that the data formats across the cities are consistent, while trimming focuses only on the parts of the data we are most interested in to make the exploration easier to work with.\n",
    "\n",
    "We will generate new data files with five values of interest for each trip: trip duration, starting month, starting hour, day of the week, and user type. Each of these may require additional wrangling depending on the city:\n",
    "\n",
    "- **Duration**: This has been given to us in seconds (New York, Chicago) or milliseconds (Washington). A more natural unit of analysis will be if all the trip durations are given in terms of minutes.\n",
    "- **Month**, **Hour**, **Day of Week**: Ridership volume is likely to change based on the season, time of day, and whether it is a weekday or weekend. Use the start time of the trip to obtain these values. The New York City data includes the seconds in their timestamps, while Washington and Chicago do not. The [`datetime`](https://docs.python.org/3/library/datetime.html) package will be very useful here to make the needed conversions.\n",
    "- **User Type**: It is possible that users who are subscribed to a bike-share system will have different patterns of use compared to users who only have temporary passes. Washington divides its users into two types: 'Registered' for users with annual, monthly, and other longer-term subscriptions, and 'Casual', for users with 24-hour, 3-day, and other short-term passes. The New York and Chicago data uses 'Subscriber' and 'Customer' for these groups, respectively. For consistency, you will convert the Washington labels to match the other two. It also turns out that there are some trips in the New York city dataset that do not have an attached user type. Since we don't have enough information to fill these values in, just leave them as-is for now.\n",
    "\n",
    "\n",
    "**Question 3a**: Complete the helper functions in the code cells below to address each of the cleaning tasks described above."
   ]
  },
  {
   "cell_type": "code",
   "execution_count": 47,
   "metadata": {
    "collapsed": true
   },
   "outputs": [],
   "source": [
    "def duration_in_mins(datum, city):\n",
    "    \"\"\"\n",
    "    Takes as input a dictionary containing info about a single trip (datum) and\n",
    "    its origin city (city) and returns the trip duration in units of minutes.\n",
    "    \"\"\"\n",
    "    \n",
    "    \n",
    "    \n",
    "    if city == 'Washington':\n",
    "        duration = datum['Duration (ms)']\n",
    "        duration = int(duration)\n",
    "        duration /= 60000\n",
    "        \n",
    "    else:\n",
    "        duration = datum['tripduration']\n",
    "        duration = int(duration)\n",
    "        duration /= 60\n",
    "    \n",
    "    return duration\n",
    "\n",
    "\n",
    "tests = {'NYC': 13.9833,\n",
    "         'Chicago': 15.4333,\n",
    "         'Washington': 7.1231}\n",
    "\n",
    "for city in tests:\n",
    "    assert abs(duration_in_mins(example_trips[city], city) - tests[city]) < .001"
   ]
  },
  {
   "cell_type": "code",
   "execution_count": 48,
   "metadata": {
    "collapsed": true
   },
   "outputs": [],
   "source": [
    "def time_of_trip(datum, city):\n",
    "    \"\"\"\n",
    "    Takes as input a dictionary containing info about a single trip (datum) and\n",
    "    its origin city (city) and returns the month, hour, and day of the week in\n",
    "    which the trip was made.\n",
    "    \n",
    "    \"\"\"\n",
    "   \n",
    "    \n",
    "    if city == 'Washington':\n",
    "        date = datum['Start date']\n",
    "        date = datetime.strptime(date, '%m/%d/%Y %H:%M')\n",
    "        month = datetime.strftime(date, '%-m')\n",
    "        hour = datetime.strftime(date, '%H')\n",
    "        day_of_week = datetime.strftime(date, '%A')\n",
    "\n",
    "    elif city == 'NYC':\n",
    "        date = datum['starttime']\n",
    "        date = datetime.strptime(date, '%m/%d/%Y %H:%M:%S')    #  1/1/2016 00:09:55\n",
    "        month = datetime.strftime(date, '%-m')\n",
    "        hour = datetime.strftime(date, '%-H')\n",
    "        day_of_week = datetime.strftime(date, '%A')\n",
    "\n",
    "    else:\n",
    "        date = datum['starttime']\n",
    "        date = datetime.strptime(date, '%m/%d/%Y %H:%M')\n",
    "        month = datetime.strftime(date, '%-m')\n",
    "        hour = datetime.strftime(date, '%H')\n",
    "        day_of_week = datetime.strftime(date, '%A')\n",
    "\n",
    "\n",
    "    return int(month), int(hour), str(day_of_week)\n",
    "\n",
    "\n",
    "\n",
    "tests = {'NYC': (1, 0, 'Friday'),\n",
    "         'Chicago': (3, 23, 'Thursday'),\n",
    "         'Washington': (3, 22, 'Thursday')}\n",
    "\n",
    "for city in tests:\n",
    "    assert time_of_trip(example_trips[city], city) == tests[city]"
   ]
  },
  {
   "cell_type": "code",
   "execution_count": 36,
   "metadata": {
    "collapsed": true
   },
   "outputs": [],
   "source": [
    "def type_of_user(datum, city):\n",
    "    \"\"\"\n",
    "    Takes as input a dictionary containing info about a single trip (datum) and\n",
    "    its origin city (city) and returns the type of system user that made the\n",
    "    trip.\n",
    "    \n",
    "    \"\"\"\n",
    "    \n",
    "    if city == 'Washington':\n",
    "        if datum['Member Type'] == 'Registered':\n",
    "            user_type = 'Subscriber'\n",
    "        else:\n",
    "            user_type = 'Customer'\n",
    "    elif city == 'Chicago':\n",
    "        user_type = datum['usertype']\n",
    "    else:\n",
    "        user_type = datum['usertype']\n",
    "    \n",
    "    return user_type\n",
    "\n",
    "\n",
    "\n",
    "tests = {'NYC': 'Customer',\n",
    "         'Chicago': 'Subscriber',\n",
    "         'Washington': 'Subscriber'}\n",
    "\n",
    "for city in tests:\n",
    "    assert type_of_user(example_trips[city], city) == tests[city]"
   ]
  },
  {
   "cell_type": "markdown",
   "metadata": {},
   "source": [
    "**Question 3b**: Now, use the helper functions you wrote above to create a condensed data file for each city consisting only of the data fields indicated above."
   ]
  },
  {
   "cell_type": "code",
   "execution_count": 49,
   "metadata": {
    "collapsed": true
   },
   "outputs": [],
   "source": [
    "def condense_data(in_file, out_file, city):\n",
    "    \"\"\"\n",
    "    This function takes full data from the specified input file\n",
    "    and writes the condensed data to a specified output file. The city\n",
    "    argument determines how the input file will be parsed.\n",
    "    \n",
    "    \"\"\"\n",
    "    \n",
    "    with open(out_file, 'w') as f_out, open(in_file, 'r') as f_in:\n",
    "        \n",
    "        out_colnames = ['duration', 'month', 'hour', 'day_of_week', 'user_type']        \n",
    "        trip_writer = csv.DictWriter(f_out, fieldnames = out_colnames)\n",
    "        trip_writer.writeheader()\n",
    "        \n",
    "        \n",
    "        trip_reader = csv.DictReader(f_in)\n",
    "\n",
    "        \n",
    "        for row in trip_reader:\n",
    "            \n",
    "            new_point = {}\n",
    "\n",
    "            duration1 = duration_in_mins(row, city)\n",
    "            month1, hour1, day_of_week1 = time_of_trip(row, city)\n",
    "            user_type1 = type_of_user(row, city)\n",
    "            new_point['duration'] = duration1\n",
    "            new_point['month'] = month1\n",
    "            new_point['hour'] = hour1\n",
    "            new_point['day_of_week'] = day_of_week1\n",
    "            new_point['user_type'] = user_type1\n",
    "\n",
    "            trip_writer.writerows([new_point])\n",
    "            \n",
    "            "
   ]
  },
  {
   "cell_type": "code",
   "execution_count": 50,
   "metadata": {},
   "outputs": [
    {
     "name": "stdout",
     "output_type": "stream",
     "text": [
      "\n",
      "City: NYC\n",
      "{'day_of_week': 'Friday',\n",
      " 'duration': '13.983333333333333',\n",
      " 'hour': '0',\n",
      " 'month': '1',\n",
      " 'user_type': 'Customer'}\n",
      "\n",
      "City: Washington\n",
      "{'day_of_week': 'Thursday',\n",
      " 'duration': '7.123116666666666',\n",
      " 'hour': '22',\n",
      " 'month': '3',\n",
      " 'user_type': 'Subscriber'}\n",
      "\n",
      "City: Chicago\n",
      "{'day_of_week': 'Thursday',\n",
      " 'duration': '15.433333333333334',\n",
      " 'hour': '23',\n",
      " 'month': '3',\n",
      " 'user_type': 'Subscriber'}\n"
     ]
    }
   ],
   "source": [
    "# Run this cell to check your work\n",
    "city_info = {'Washington': {'in_file': './data/Washington-CapitalBikeshare-2016.csv',\n",
    "                            'out_file': './data/Washington-2016-Summary.csv'},\n",
    "             'Chicago': {'in_file': './data/Chicago-Divvy-2016.csv',\n",
    "                         'out_file': './data/Chicago-2016-Summary.csv'},\n",
    "             'NYC': {'in_file': './data/NYC-CitiBike-2016.csv',\n",
    "                     'out_file': './data/NYC-2016-Summary.csv'}}\n",
    "\n",
    "for city, filenames in city_info.items():\n",
    "    condense_data(filenames['in_file'], filenames['out_file'], city)\n",
    "\n",
    "for city, filenames in city_info.items():\n",
    "    print_first_point(filenames['out_file'])"
   ]
  },
  {
   "cell_type": "markdown",
   "metadata": {},
   "source": [
    "\n",
    "\n",
    "<a id='eda'></a>\n",
    "## Exploratory Data Analysis\n",
    "\n",
    "\n",
    "\n",
    "<a id='statistics'></a>\n",
    "### Statistics\n",
    "\n",
    "\n",
    "\n",
    "**Question 4a**: Which city has the highest number of trips? Which city has the highest proportion of trips made by subscribers? Which city has the highest proportion of trips made by short-term customers?\n",
    "\n",
    "**Answer**: New York City was highest number of trips. Also, NYC has highest proportion of trips made by subscribers. Chicago has highest number of trips made by customers."
   ]
  },
  {
   "cell_type": "code",
   "execution_count": 51,
   "metadata": {
    "collapsed": true
   },
   "outputs": [],
   "source": [
    "def number_of_trips(filename):\n",
    "    \"\"\"\n",
    "    This function reads in a file with trip data and reports the number of\n",
    "    trips made by subscribers, customers, and total overall.\n",
    "    \"\"\"\n",
    "    with open(filename, 'r') as f_in:\n",
    "        # set up csv reader object\n",
    "        reader = csv.DictReader(f_in)\n",
    "        \n",
    "        # initialize count variables\n",
    "        n_subscribers = 0\n",
    "        n_customers = 0\n",
    "        \n",
    "        # tally up ride types\n",
    "        for row in reader:\n",
    "            if row['user_type'] == 'Subscriber':\n",
    "                n_subscribers += 1\n",
    "            elif row['user_type'] == 'Customer':\n",
    "                n_customers += 1\n",
    "        \n",
    "        # compute total number of rides\n",
    "        n_total = n_subscribers + n_customers\n",
    "        \n",
    "        # return tallies as a tuple\n",
    "        return(n_subscribers, n_customers, n_total)"
   ]
  },
  {
   "cell_type": "code",
   "execution_count": 52,
   "metadata": {},
   "outputs": [
    {
     "name": "stdout",
     "output_type": "stream",
     "text": [
      "For the city NYC, there were total 276081 trips made. Of which, 245896 were made by subsribers and 30185 by customers.\n",
      "For the city Washington, there were total 66326 trips made. Of which, 51753 were made by subsribers and 14573 by customers.\n",
      "For the city Chicago, there were total 72131 trips made. Of which, 54982 were made by subsribers and 17149 by customers.\n"
     ]
    }
   ],
   "source": [
    "data_file = {'NYC': './data/NYC-2016-Summary.csv',\n",
    "             'Washington': './data/Washington-2016-Summary.csv',\n",
    "             'Chicago': './data/Chicago-2016-Summary.csv'}\n",
    "\n",
    "\n",
    "for city, files in data_file.items():\n",
    "    n_subscribers, n_customers, n_total = number_of_trips(files)\n",
    "    print(\"For the city {}, there were total {} trips made. Of which, {} were made by subsribers and {} by customers.\".format(city, n_total, n_subscribers, n_customers))\n",
    "    "
   ]
  },
  {
   "cell_type": "markdown",
   "metadata": {},
   "source": [
    "\n",
    "\n",
    "\n",
    "**Question 4b**: Bike-share systems are designed for riders to take short trips. Most of the time, users are allowed to take trips of 30 minutes or less with no additional charges, with overage charges made for trips of longer than that duration. What is the average trip length for each city? What proportion of rides made in each city are longer than 30 minutes?\n",
    "\n",
    "**Answer**: The average trip lengths for NYC was 15 minutes, for Washington was 18 minutes and for Chicago it was 16 minutes. For NYC 7.30 % of total trips were more than 30 minutes. Whereas for Washington, 10.84 % of total trips were more than 30 minutes. 8.33 % of total trips for Chicago were more than 30 minutes."
   ]
  },
  {
   "cell_type": "code",
   "execution_count": 53,
   "metadata": {
    "scrolled": true
   },
   "outputs": [
    {
     "name": "stdout",
     "output_type": "stream",
     "text": [
      "In NYC, the average trip duration was 15 minutes, while 7.30 % of total trips were more than 30 minutes.\n",
      "In Washington, the average trip duration was 18 minutes, while 10.84 % of total trips were more than 30 minutes.\n",
      "In Chicago, the average trip duration was 16 minutes, while 8.33 % of total trips were more than 30 minutes.\n"
     ]
    }
   ],
   "source": [
    "def average_trip(filename):\n",
    "    \"\"\"\n",
    "    This function reads in a file with trip data and reports the number of\n",
    "    trips made by subscribers, customers, and total overall.\n",
    "    \"\"\"\n",
    "\n",
    "    with open(filename, 'r') as f_in:\n",
    "        # set up csv reader object\n",
    "        \n",
    "        total_duration = 0\n",
    "        count = 0\n",
    "        more_than_thirty = 0\n",
    "        reader = csv.DictReader(f_in)        \n",
    "        for row in reader:\n",
    "            if row['duration']:\n",
    "                duration1 = float(row['duration'])\n",
    "                total_duration += duration1\n",
    "                count += 1\n",
    "            if duration1 > 30:\n",
    "                more_than_thirty += 1\n",
    "\n",
    "\n",
    "    average_duration = int(total_duration) / count\n",
    "\n",
    "    return int(average_duration), more_than_thirty, count\n",
    "\n",
    "\n",
    "nyc_average_duration, nyc_more_than_thirty, nyc_count = average_trip('./data/NYC-2016-Summary.csv')\n",
    "wash_average_duration, wash_more_than_thirty, wash_count = average_trip('./data/Washington-2016-Summary.csv')\n",
    "chi_average_duration, chi_more_than_thirty, chi_count = average_trip('./data/Chicago-2016-Summary.csv')\n",
    "\n",
    "nyc_propor = (nyc_more_than_thirty / nyc_count) * 100\n",
    "wash_propor = (wash_more_than_thirty / wash_count) * 100\n",
    "chi_propor = (chi_more_than_thirty / chi_count) * 100\n",
    "print(\"In NYC, the average trip duration was {} minutes, while {:0.2f} % of total trips were more than 30 minutes.\".format(\n",
    "    nyc_average_duration, nyc_propor))\n",
    "print(\"In Washington, the average trip duration was {} minutes, while {:0.2f} % of total trips were more than 30 minutes.\".format(\n",
    "    wash_average_duration, wash_propor))\n",
    "print(\"In Chicago, the average trip duration was {} minutes, while {:0.2f} % of total trips were more than 30 minutes.\".format(\n",
    "    chi_average_duration, chi_propor))\n",
    "\n"
   ]
  },
  {
   "cell_type": "markdown",
   "metadata": {},
   "source": [
    "**Question 4c**: Dig deeper into the question of trip duration based on ridership. Choose one city. Within that city, which type of user takes longer rides on average: Subscribers or Customers?\n",
    "\n",
    "**Answer**: City selected here is Washington. For Washington, Customers took longer rides than Subscribers."
   ]
  },
  {
   "cell_type": "code",
   "execution_count": 54,
   "metadata": {},
   "outputs": [
    {
     "name": "stdout",
     "output_type": "stream",
     "text": [
      "<csv.DictReader object at 0x7f2bdafc2fd0>\n",
      "For Washington in 2016, the average trip duration for Customer was 41.68 minutes\n",
      "and for Subscriber it was 12.53 minutes.\n"
     ]
    }
   ],
   "source": [
    "def ridership_stats(filename):\n",
    "    \"\"\" This function determines which type of User takes\n",
    "        longer rides on average by reading a CSV file.\n",
    "    \"\"\"\n",
    "\n",
    "    with open(filename, 'r') as f_in:\n",
    "        # set up csv reader object\n",
    "        reader = csv.DictReader(f_in)\n",
    "        subscriber_count = 0\n",
    "        customer_count = 0\n",
    "        subscriber_duration = 0\n",
    "        customer_duration = 0\n",
    "        \n",
    "        for row in reader:            \n",
    "            if row['user_type'] == 'Subscriber':\n",
    "                subscriber_duration1 = float(row['duration'])\n",
    "                subscriber_duration += subscriber_duration1\n",
    "                subscriber_count += 1\n",
    "            elif row['user_type'] == 'Customer':\n",
    "                customer_duration1 = float(row['duration'])\n",
    "                customer_duration += customer_duration1\n",
    "                customer_count += 1\n",
    "\n",
    "        avg_cust_dur = customer_duration / customer_count\n",
    "        avg_sub_dur = subscriber_duration / subscriber_count\n",
    "\n",
    "        return avg_cust_dur, avg_sub_dur\n",
    "\n",
    "\n",
    "\n",
    "\n",
    "avg_cust_dur, avg_sub_dur = ridership_stats('./data/Washington-2016-Summary.csv')\n",
    "\n",
    "print(\"For Washington in 2016, the average trip duration for Customer was {:0.2f} minutes\\nand for Subscriber it was {:0.2f} minutes.\".format(avg_cust_dur, avg_sub_dur))"
   ]
  },
  {
   "cell_type": "markdown",
   "metadata": {},
   "source": [
    "<a id='visualizations'></a>\n",
    "### Visualizations\n",
    "\n",
    "The last set of values that you computed should have pulled up an interesting result. While the mean trip time for Subscribers is well under 30 minutes, the mean trip time for Customers is actually _above_ 30 minutes! It will be interesting for us to look at how the trip times are distributed. In order to do this, a new library will be introduced here, `matplotlib`. Run the cell below to load the library and to generate an example plot."
   ]
  },
  {
   "cell_type": "code",
   "execution_count": 5,
   "metadata": {},
   "outputs": [
    {
     "data": {
      "image/png": "[encoded data removed]",
      "text/plain": [
       "<matplotlib.figure.Figure at 0x7fb235c1d080>"
      ]
     },
     "metadata": {},
     "output_type": "display_data"
    }
   ],
   "source": [
    "# load library\n",
    "import matplotlib.pyplot as plt\n",
    "\n",
    "# this is a 'magic word' that allows for plots to be displayed\n",
    "# inline with the notebook. If you want to know more, see:\n",
    "# http://ipython.readthedocs.io/en/stable/interactive/magics.html\n",
    "%matplotlib inline \n",
    "\n",
    "# example histogram, data taken from bay area sample\n",
    "data = [ 7.65,  8.92,  7.42,  5.50, 16.17,  4.20,  8.98,  9.62, 11.48, 14.33,\n",
    "        19.02, 21.53,  3.90,  7.97,  2.62,  2.67,  3.08, 14.40, 12.90,  7.83,\n",
    "        25.12,  8.30,  4.93, 12.43, 10.60,  6.17, 10.88,  4.78, 15.15,  3.53,\n",
    "         9.43, 13.32, 11.72,  9.85,  5.22, 15.10,  3.95,  3.17,  8.78,  1.88,\n",
    "         4.55, 12.68, 12.38,  9.78,  7.63,  6.45, 17.38, 11.90, 11.52,  8.63,]\n",
    "plt.hist(data)\n",
    "plt.title('Distribution of Trip Durations')\n",
    "plt.xlabel('Duration (m)')\n",
    "plt.show()"
   ]
  },
  {
   "cell_type": "markdown",
   "metadata": {},
   "source": [
    "In the above cell, we collected fifty trip times in a list, and passed this list as the first argument to the `.hist()` function. This function performs the computations and creates plotting objects for generating a histogram, but the plot is actually not rendered until the `.show()` function is executed. The `.title()` and `.xlabel()` functions provide some labeling for plot context.\n",
    "\n"
   ]
  },
  {
   "cell_type": "markdown",
   "metadata": {},
   "source": [
    "\n",
    "\n",
    "**Question 5**: Use the parameters of the `.hist()` function to plot the distribution of trip times for the Subscribers in your selected city. Do the same thing for only the Customers. Add limits to the plots so that only trips of duration less than 75 minutes are plotted. As a bonus, set the plots up so that bars are in five-minute wide intervals. For each group, where is the peak of each distribution? How would you describe the shape of each distribution?\n",
    "\n",
    "**Answer**: The above question was answered using ggplot's histogram. The city selected for this is Washington. Firstly, for Customers; the peak of distribution was around 15-20 minutes. For Subscribers, the peak was 5-10 minutes. The distribution was normal Gaussian - Log Normal Distribution to be precise. Both the graphs have a positive skewness."
   ]
  },
  {
   "cell_type": "code",
   "execution_count": 1,
   "metadata": {
    "collapsed": true
   },
   "outputs": [],
   "source": [
    "\n",
    "\n",
    "# %matplotlib inline\n",
    "\n",
    "def plot_histogram(filename):\n",
    "    \"\"\"This function reads CSV file in a dataframe \n",
    "        and plots a histogram using ggplot.\n",
    "    \"\"\"\n",
    "    \n",
    "    \n",
    "    df = pd.read_csv(filename)  # Reading the csv file in dataframe.\n",
    "    \n",
    "    df = df[df['duration']<75]  # Limiting the duration to 75 mins, and saving new dataframe to the same one\n",
    "    \n",
    "    # Begin aesthetic mapping\n",
    "    \n",
    "    plot = ggplot(aes(x='duration'), data=df) +\\\n",
    "    geom_histogram(bins=15, color='black', alpha=0.7) +\\\n",
    "    ggtitle('Travel Duration for Subscribers and Customers for Washington')+\\\n",
    "    xlab('Duration (minutes)') +\\\n",
    "    ylab('Number of Trips') +\\\n",
    "    xlim(0, 75)+\\\n",
    "    facet_grid(None,'user_type', scales='free_y')  # x_facet, f_facet, Scales - varies across Y-Axis\n",
    "    plot.show()\n",
    "\n",
    "    \n",
    "    \n",
    "# I was able to plot this same using matplotlib by converting the values to float type before appending!\n",
    "# Code - \n",
    "\n",
    "# def plot_trips(filename):\n",
    "\n",
    "#     with open(filename, 'r') as f_in:\n",
    "#         # set up csv reader object\n",
    "#         reader = csv.DictReader(f_in)\n",
    "#         trips = []\n",
    "#         for row in reader:\n",
    "#             trips.append(float(row['duration']))\n",
    "\n",
    "#     return trips\n",
    "\n",
    "# data_file = {'NYC': './data/NYC-2016-Summary.csv'}\n",
    "\n",
    "# for city, files in data_file.items():\n",
    "#     plt.hist(plot_trips(files))\n",
    "#     plt.title('Distribution of Trip Durations')\n",
    "#     plt.xlabel('Duration (m)')\n",
    "#     plt.show()\n"
   ]
  },
  {
   "cell_type": "code",
   "execution_count": 61,
   "metadata": {},
   "outputs": [
    {
     "name": "stdout",
     "output_type": "stream",
     "text": [
      "Here's a histogram for Washington\n"
     ]
    },
    {
     "data": {
      "image/png": "[encoded data removed]",
      "text/plain": [
       "<matplotlib.figure.Figure at 0x7f2bcb948668>"
      ]
     },
     "metadata": {},
     "output_type": "display_data"
    }
   ],
   "source": [
    "data_file = {'Washington': './data/Washington-2016-Summary.csv'}\n",
    "\n",
    "\n",
    "for city, files in data_file.items():\n",
    "    print(\"Here's a histogram for \" + city)\n",
    "    plot_histogram(files)\n"
   ]
  },
  {
   "cell_type": "markdown",
   "metadata": {
    "collapsed": true
   },
   "source": [
    "<a id='eda_continued'></a>\n",
    "## Performing Further Analysis\n",
    "\n",
    "\n",
    "\n",
    "- How does ridership differ by month or season? Which month / season has the highest ridership? Does the ratio of Subscriber trips to Customer trips change depending on the month or season?\n",
    "- Is the pattern of ridership different on the weekends versus weekdays? On what days are Subscribers most likely to use the system? What about Customers? Does the average duration of rides change depending on the day of the week?\n",
    "- During what time of day is the system used the most? Is there a difference in usage patterns for Subscribers and Customers?\n",
    "\n",
    "\n",
    "\n",
    "**Question 6**: Continue the investigation by exploring another question that could be answered by the data available. Document the question you want to explore below. Your investigation should involve at least two variables and should compare at least two groups. You should also use at least one visualization as part of your explorations.\n",
    "\n",
    "**Answer**: For a given city, which day is most popular amongst Customers and Subscriber? I saw after plotting a bar chart graph for Chicago that the services were in most demand during weekends by the Customers. On the rest of the days, the use of the services was hugely dominated by Subscribers."
   ]
  },
  {
   "cell_type": "code",
   "execution_count": 58,
   "metadata": {},
   "outputs": [
    {
     "data": {
      "image/png": "[encoded data removed]",
      "text/plain": [
       "<matplotlib.figure.Figure at 0x7f2bcb905eb8>"
      ]
     },
     "metadata": {},
     "output_type": "display_data"
    }
   ],
   "source": [
    "%matplotlib inline\n",
    "\n",
    "def plot_trips(filename):\n",
    "    \"\"\"This function counts the number of trips for Customers and Subscribers\n",
    "        for each day and stores the values in a nested dictionary.\n",
    "    \"\"\"\n",
    "    \n",
    "    days_of_weeks = {'Subscriber': {\n",
    "                                    'Monday': 0,\n",
    "                                    'Tuesday': 0,\n",
    "                                    'Wednesday': 0,\n",
    "                                    'Thursday': 0,\n",
    "                                    'Friday': 0,\n",
    "                                    'Saturday': 0,\n",
    "                                    'Sunday': 0},\n",
    "                    'Customer' : {\n",
    "                                    'Monday': 0,\n",
    "                                    'Tuesday': 0,\n",
    "                                    'Wednesday': 0,\n",
    "                                    'Thursday': 0,\n",
    "                                    'Friday': 0,\n",
    "                                    'Saturday': 0,\n",
    "                                    'Sunday': 0},\n",
    "                         }\n",
    "\n",
    "    with open(filename, 'r') as f_in:\n",
    "        # set up csv reader object\n",
    "        reader = csv.DictReader(f_in)\n",
    "       \n",
    "        for row in reader:\n",
    "                for user_type, days in days_of_weeks.items():\n",
    "                    if row['user_type'] in user_type:\n",
    "                        for day in days:\n",
    "                            if row['day_of_week'] in day:\n",
    "                                days_of_weeks[user_type][day] +=1\n",
    "           \n",
    "    return days_of_weeks\n",
    "\n",
    "\n",
    "days_of_weeks = plot_trips('./data/Chicago-2016-Summary.csv')\n",
    "\n",
    "#This code below returns a list of values for 7 days in proper order of days of week.\n",
    "\n",
    "weekdays = ['Monday', 'Tuesday', 'Wednesday', 'Thursday', 'Friday', 'Saturday', 'Sunday']\n",
    "subscriber_count = [0, 0, 0, 0, 0, 0, 0]\n",
    "customer_count = [0, 0, 0, 0, 0, 0, 0]\n",
    "weekdays_x = ['Mon', 'Tue', 'Wed', 'Thu', 'Fri', 'Sat', 'Sun']\n",
    "\n",
    "\n",
    "for i in range(0, len(weekdays)):\n",
    "    if weekdays[i] in days_of_weeks['Subscriber']:\n",
    "        subscriber_count[i] += days_of_weeks[\"Subscriber\"][weekdays[i]]\n",
    "    if weekdays[i] in days_of_weeks['Customer']:\n",
    "        customer_count[i] += days_of_weeks[\"Customer\"][weekdays[i]]\n",
    "\n",
    "#Plotting the bar chart\n",
    "\n",
    "X = np.arange(len(customer_count))\n",
    "ax = plt.subplot(111)\n",
    "ax.bar(X, customer_count, width=0.2, color='b', align='center')\n",
    "ax.bar(X-0.2, subscriber_count, width=0.2, color='g', align='center')\n",
    "ax.legend(('Customers','Subscribers'))\n",
    "ax.set_xlabel(\"Days of Week\")\n",
    "ax.set_ylabel(\"Number of Trips\")\n",
    "plt.xticks(X, weekdays_x)\n",
    "plt.title(\"Trip Distribution for Customers and Subscribers in Chicago(2016)\", fontsize=14)\n",
    "plt.show() # this is not required, although without this a text was appearing on top of graph.\n",
    "\n",
    "\n",
    "    \n",
    "\n"
   ]
  },
  {
   "cell_type": "markdown",
   "metadata": {},
   "source": [
    "<a id='conclusions'></a>\n",
    "## Conclusions\n",
    "\n",
    "-  NYC has the highest number of subscribers and total users\n",
    "-  The average travel time is roughly 15 minutes\n",
    "-  Customers ride their bikes for longer times than Subscribers\n",
    "-  Customers ride their bikes msot on weekends\n",
    "\n"
   ]
  },
  {
   "cell_type": "code",
   "execution_count": null,
   "metadata": {
    "collapsed": true
   },
   "outputs": [],
   "source": []
  }
 ],
 "metadata": {
  "anaconda-cloud": {},
  "kernelspec": {
   "display_name": "Python 3",
   "language": "python",
   "name": "python3"
  },
  "language_info": {
   "codemirror_mode": {
    "name": "ipython",
    "version": 3
   },
   "file_extension": ".py",
   "mimetype": "text/x-python",
   "name": "python",
   "nbconvert_exporter": "python",
   "pygments_lexer": "ipython3",
   "version": "3.6.4"
  }
 },
 "nbformat": 4,
 "nbformat_minor": 1
}
